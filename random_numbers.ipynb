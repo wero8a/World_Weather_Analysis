{
 "cells": [
  {
   "cell_type": "code",
   "execution_count": 1,
   "id": "781ee7d7",
   "metadata": {},
   "outputs": [],
   "source": [
    "import random"
   ]
  },
  {
   "cell_type": "code",
   "execution_count": 83,
   "id": "239098ef",
   "metadata": {},
   "outputs": [
    {
     "data": {
      "text/plain": [
       "-53"
      ]
     },
     "execution_count": 83,
     "metadata": {},
     "output_type": "execute_result"
    }
   ],
   "source": [
    "random.randint(-90, 90)"
   ]
  },
  {
   "cell_type": "code",
   "execution_count": 84,
   "id": "1d86bcce",
   "metadata": {},
   "outputs": [
    {
     "data": {
      "text/plain": [
       "0.23828527493321605"
      ]
     },
     "execution_count": 84,
     "metadata": {},
     "output_type": "execute_result"
    }
   ],
   "source": [
    "random.random()"
   ]
  },
  {
   "cell_type": "code",
   "execution_count": 85,
   "id": "fb2130aa",
   "metadata": {},
   "outputs": [
    {
     "data": {
      "text/plain": [
       "66.2804999012852"
      ]
     },
     "execution_count": 85,
     "metadata": {},
     "output_type": "execute_result"
    }
   ],
   "source": [
    "random_number = random.randint(-90,89) + random.random()\n",
    "\n",
    "random_number"
   ]
  },
  {
   "cell_type": "code",
   "execution_count": 88,
   "id": "b48aa2de",
   "metadata": {},
   "outputs": [
    {
     "data": {
      "text/plain": [
       "[4.9278103869359065,\n",
       " -89.73275036943636,\n",
       " 65.49053211630898,\n",
       " -18.754012063001955,\n",
       " 19.84026202609238,\n",
       " 19.280894749441458,\n",
       " 3.3207730883377993,\n",
       " -86.84206535565009,\n",
       " -66.99243024854091,\n",
       " -51.078638975215206]"
      ]
     },
     "execution_count": 88,
     "metadata": {},
     "output_type": "execute_result"
    }
   ],
   "source": [
    "x = 1\n",
    "\n",
    "latitudes = []\n",
    "\n",
    "while x<11:\n",
    "    \n",
    "    random_lat = random.randint(-90, 89) + random.random()\n",
    "    \n",
    "    latitudes.append(random_lat)\n",
    "    x +=1\n",
    "    \n",
    "latitudes"
   ]
  },
  {
   "cell_type": "code",
   "execution_count": 126,
   "id": "8a17c5a2",
   "metadata": {},
   "outputs": [
    {
     "data": {
      "text/plain": [
       "-50"
      ]
     },
     "execution_count": 126,
     "metadata": {},
     "output_type": "execute_result"
    }
   ],
   "source": [
    "random.randrange(-90, 90, step = 1)"
   ]
  },
  {
   "cell_type": "code",
   "execution_count": 96,
   "id": "36808806",
   "metadata": {},
   "outputs": [
    {
     "data": {
      "text/plain": [
       "-27"
      ]
     },
     "execution_count": 96,
     "metadata": {},
     "output_type": "execute_result"
    }
   ],
   "source": [
    "random.randrange(-90, 90, step = 3)"
   ]
  },
  {
   "cell_type": "code",
   "execution_count": 127,
   "id": "575b021c",
   "metadata": {},
   "outputs": [
    {
     "data": {
      "text/plain": [
       "57.114756263440626"
      ]
     },
     "execution_count": 127,
     "metadata": {},
     "output_type": "execute_result"
    }
   ],
   "source": [
    "random.uniform(-90, 90)"
   ]
  },
  {
   "cell_type": "code",
   "execution_count": 129,
   "id": "925f0445",
   "metadata": {},
   "outputs": [],
   "source": [
    "#import the NumPy module\n",
    "\n",
    "import numpy as np"
   ]
  },
  {
   "cell_type": "code",
   "execution_count": 130,
   "id": "5a56aa21",
   "metadata": {},
   "outputs": [
    {
     "data": {
      "text/plain": [
       "63.791976376748664"
      ]
     },
     "execution_count": 130,
     "metadata": {},
     "output_type": "execute_result"
    }
   ],
   "source": [
    "np.random.uniform(-90.000, 90.000)"
   ]
  },
  {
   "cell_type": "code",
   "execution_count": 135,
   "id": "ea7c8635",
   "metadata": {},
   "outputs": [
    {
     "data": {
      "text/plain": [
       "-14.04417000036922"
      ]
     },
     "execution_count": 135,
     "metadata": {},
     "output_type": "execute_result"
    }
   ],
   "source": [
    "np.random.uniform(-90, 90)"
   ]
  },
  {
   "cell_type": "code",
   "execution_count": 136,
   "id": "9c527f65",
   "metadata": {},
   "outputs": [
    {
     "data": {
      "text/plain": [
       "-66.21608585729014"
      ]
     },
     "execution_count": 136,
     "metadata": {},
     "output_type": "execute_result"
    }
   ],
   "source": [
    "np.random.uniform(low = -90,high = 90)"
   ]
  },
  {
   "cell_type": "code",
   "execution_count": 137,
   "id": "9ac517aa",
   "metadata": {},
   "outputs": [
    {
     "data": {
      "text/plain": [
       "array([  6.13890021,  14.68979009, -45.31074909,  61.34008532,\n",
       "        39.51214825,  58.23067315,   0.22872754, -79.21835533,\n",
       "       -23.73801682,  15.22002506, -16.37715532,  35.13178291,\n",
       "        20.93679176,  57.59889594,  14.69794594,  -9.42564322,\n",
       "        -1.37809848, -13.77478799, -46.45403652,  -8.33150423,\n",
       "        -3.84819191,  85.10510777,  62.53008502, -41.89853209,\n",
       "        50.32043904,  63.89664535,  69.25972621, -74.87524164,\n",
       "        24.41569731,  25.95957347, -86.9637195 , -43.19236332,\n",
       "        32.89576996,  24.6337441 , -75.71728339,  41.78471211,\n",
       "        72.86564816, -38.71245616, -59.24553938, -77.86486057,\n",
       "       -46.68799738,  80.93166608, -20.90363601, -32.57049176,\n",
       "       -51.00068865, -31.47539429,  45.56565154, -34.33671873,\n",
       "       -15.99121159,  65.22160984])"
      ]
     },
     "execution_count": 137,
     "metadata": {},
     "output_type": "execute_result"
    }
   ],
   "source": [
    "np.random.uniform(-90, 90, size = 50)"
   ]
  },
  {
   "cell_type": "code",
   "execution_count": 138,
   "id": "be6d0af3",
   "metadata": {},
   "outputs": [],
   "source": [
    "import timeit"
   ]
  },
  {
   "cell_type": "code",
   "execution_count": 140,
   "id": "eebd2345",
   "metadata": {},
   "outputs": [
    {
     "name": "stdout",
     "output_type": "stream",
     "text": [
      "14.1 µs ± 428 ns per loop (mean ± std. dev. of 7 runs, 100000 loops each)\n"
     ]
    }
   ],
   "source": [
    "%timeit np.random.uniform(-90.000, 90.000, size=1500)"
   ]
  },
  {
   "cell_type": "code",
   "execution_count": 141,
   "id": "9e7320de",
   "metadata": {},
   "outputs": [
    {
     "name": "stdout",
     "output_type": "stream",
     "text": [
      "1.94 ms ± 77.8 µs per loop (mean ± std. dev. of 7 runs, 1000 loops each)\n"
     ]
    }
   ],
   "source": [
    "def latitudes(size):\n",
    "    latitudes = []\n",
    "    x = 0\n",
    "    while x < (size):\n",
    "        random_lat = random.randint(-90, 90) + random.random()\n",
    "        latitudes.append(random_lat)\n",
    "        x += 1\n",
    "    return latitudes\n",
    "# Call the function with 1500.\n",
    "%timeit latitudes(1500)"
   ]
  }
 ],
 "metadata": {
  "kernelspec": {
   "display_name": "PythonData",
   "language": "python",
   "name": "pythondata"
  },
  "language_info": {
   "codemirror_mode": {
    "name": "ipython",
    "version": 3
   },
   "file_extension": ".py",
   "mimetype": "text/x-python",
   "name": "python",
   "nbconvert_exporter": "python",
   "pygments_lexer": "ipython3",
   "version": "3.7.13"
  }
 },
 "nbformat": 4,
 "nbformat_minor": 5
}
